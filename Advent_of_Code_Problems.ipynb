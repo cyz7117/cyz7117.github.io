{
  "nbformat": 4,
  "nbformat_minor": 0,
  "metadata": {
    "colab": {
      "provenance": [],
      "collapsed_sections": [
        "cB7xZXVjGS_V",
        "bzRW8tM3Nofo",
        "btc_W0dNzVDF"
      ]
    },
    "kernelspec": {
      "name": "python3",
      "display_name": "Python 3"
    },
    "language_info": {
      "name": "python"
    }
  },
  "cells": [
    {
      "cell_type": "code",
      "source": [
        "from google.colab import drive\n",
        "drive.mount('/content/gdrive')"
      ],
      "metadata": {
        "colab": {
          "base_uri": "https://localhost:8080/"
        },
        "id": "-RTA-YvEH5GT",
        "outputId": "f62de21b-d1f7-47c2-89a0-38c5fdf0af01"
      },
      "execution_count": 2,
      "outputs": [
        {
          "output_type": "stream",
          "name": "stdout",
          "text": [
            "Mounted at /content/gdrive\n"
          ]
        }
      ]
    },
    {
      "cell_type": "markdown",
      "source": [
        "# **Advent of Code Problem 1**"
      ],
      "metadata": {
        "id": "cB7xZXVjGS_V"
      }
    },
    {
      "cell_type": "markdown",
      "source": [
        "## Part 1"
      ],
      "metadata": {
        "id": "-H0goTUHcpyb"
      }
    },
    {
      "cell_type": "code",
      "source": [
        "def input_to_lists_one(fname: str) -> list:\n",
        "    \"\"\"\n",
        "    Takes a file containing two columns of integers and converts each column\n",
        "    into a separate list.\n",
        "\n",
        "    Args:\n",
        "        fname (str):    a string representing the name of a text file containing\n",
        "                        two columns of integers\n",
        "\n",
        "    Returns:\n",
        "             (list):    a list containing all integers in the left column and a\n",
        "                        list containing all integers in the right column\n",
        "\n",
        "    Examples:\n",
        "        >>> input_to_lists_one(\"Advent Problem 1 Test 1.txt\")\n",
        "            ([3, 4, 2, 1, 3, 3], [4, 3, 5, 3, 9, 3])\n",
        "        >>> input_to_lists_one(\"Advent Problem 1 Test 2.txt\")\n",
        "            ([12, 11, 12], [14, 13, 10])\n",
        "    \"\"\"\n",
        "    folder_path = \"/content/gdrive/MyDrive/Colab Notebooks/text_files/\"\n",
        "\n",
        "    # encoding='utf-8-sig' to remove \\ufeff in the output\n",
        "    with open(folder_path + fname, 'r', encoding='utf-8-sig') as file:\n",
        "        lines = file.readlines()\n",
        "    cleaned_lines = [line.strip() for line in lines]\n",
        "\n",
        "    left_list = []\n",
        "    right_list = []\n",
        "\n",
        "    for each in cleaned_lines:\n",
        "        num = each.split()\n",
        "        # Elements in the middle are spaces; only first and last are relevent\n",
        "        print(num)\n",
        "        left_list.append(int(num[0]))\n",
        "        right_list.append(int(num[-1]))\n",
        "\n",
        "    return left_list, right_list"
      ],
      "metadata": {
        "id": "JUnWUyE5M5-i"
      },
      "execution_count": 3,
      "outputs": []
    },
    {
      "cell_type": "code",
      "source": [
        "# Test Cases for input_to_lists_one()\n",
        "\n",
        "# Provided Examples\n",
        "assert input_to_lists_one(\"Advent Problem 1 Test 1.txt\") == ([3, 4, 2, 1, 3, 3], [4, 3, 5, 3, 9, 3])\n",
        "assert input_to_lists_one(\"Advent Problem 1 Test 2.txt\") == ([12, 11, 12], [14, 13, 10])\n",
        "\n",
        "# Empty lists\n",
        "assert input_to_lists_one(\"Empty .txt\") == ([], [])"
      ],
      "metadata": {
        "id": "J67EQDicSOTd"
      },
      "execution_count": null,
      "outputs": []
    },
    {
      "cell_type": "code",
      "execution_count": null,
      "metadata": {
        "id": "KWuvqJdco0sg"
      },
      "outputs": [],
      "source": [
        "def compute_distances(list_left: list, list_right: list) -> int:\n",
        "    \"\"\"\n",
        "    Determines the total \"distance\" between two lists of historically\n",
        "    significant location IDs by pairing corresponding sorted elements and\n",
        "    summing the absolute differences between each pair. Both lists should be\n",
        "    equal in length.\n",
        "\n",
        "    Args:\n",
        "         list_left (list):   list of integer representing location IDs on the\n",
        "                             left side\n",
        "        list_right (list):   list of integer representing location IDs one the\n",
        "                             right side\n",
        "\n",
        "    Returns:\n",
        "                    (int):   a integer representing the total distance\n",
        "\n",
        "    Examples:\n",
        "        >>> compute_distances([3, 4, 2, 1, 3, 3], [4, 3, 5, 3, 9, 3])\n",
        "            11\n",
        "        >>> compute_distances([2, 1, 2], [4, 3, 0])\n",
        "            4\n",
        "    \"\"\"\n",
        "    total_dist = 0\n",
        "\n",
        "    list_left = sorted(list_left)\n",
        "    list_right = sorted(list_right)\n",
        "\n",
        "    for i in range(len(list_left)):\n",
        "        total_dist += abs(list_left[i] - list_right[i])\n",
        "\n",
        "    return total_dist"
      ]
    },
    {
      "cell_type": "code",
      "source": [
        "# Test Cases for compute_distances()\n",
        "\n",
        "# Provided Examples\n",
        "assert compute_distances([3, 4, 2, 1, 3, 3], [4, 3, 5, 3, 9, 3]) == 11\n",
        "assert compute_distances([12, 11, 12], [14, 13, 10]) == 4\n",
        "\n",
        "# Empty lists\n",
        "assert compute_distances([], []) == 0"
      ],
      "metadata": {
        "id": "qlV-nY_v1-vn"
      },
      "execution_count": null,
      "outputs": []
    },
    {
      "cell_type": "markdown",
      "source": [
        "Solution to problem"
      ],
      "metadata": {
        "id": "CmofM_dbTqCk"
      }
    },
    {
      "cell_type": "code",
      "source": [
        "left_ID = input_to_lists_one(\"Day 1 Advent 2024.txt\")[0]\n",
        "right_ID = input_to_lists_one(\"Day 1 Advent 2024.txt\")[1]"
      ],
      "metadata": {
        "id": "0htRmu3QTpZs"
      },
      "execution_count": null,
      "outputs": []
    },
    {
      "cell_type": "code",
      "source": [
        "compute_distances(left_ID, right_ID)"
      ],
      "metadata": {
        "colab": {
          "base_uri": "https://localhost:8080/"
        },
        "id": "yom1aZ8uT_jg",
        "outputId": "3de10a8a-4561-4643-e026-3eee561001a8"
      },
      "execution_count": null,
      "outputs": [
        {
          "output_type": "execute_result",
          "data": {
            "text/plain": [
              "1579939"
            ]
          },
          "metadata": {},
          "execution_count": 9
        }
      ]
    },
    {
      "cell_type": "markdown",
      "source": [
        "Answer: 1579939"
      ],
      "metadata": {
        "id": "i82oJrq4NlTC"
      }
    },
    {
      "cell_type": "markdown",
      "source": [
        "## Part 2"
      ],
      "metadata": {
        "id": "56Pg8UhccxbH"
      }
    },
    {
      "cell_type": "code",
      "source": [
        "def similarity_score(list_left: list, list_right: list) -> int:\n",
        "    \"\"\"\n",
        "    Calculates a total similarity score by adding up each number in the left\n",
        "    list after multiplying it by the number of times that number appears in the\n",
        "    right list. Both lists should be equal in length.\n",
        "\n",
        "    Args:\n",
        "         list_left (list):   list of integer representing location IDs on the\n",
        "                             left side\n",
        "        list_right (list):   list of integer representing location IDs one the\n",
        "                             right side\n",
        "\n",
        "    Returns:\n",
        "                    (int):   an integer representing the total similarity\n",
        "\n",
        "    Examples:\n",
        "        >>> similarity_score([3, 4, 2, 1, 3, 3], [4, 3, 5, 3, 9, 3])\n",
        "            31\n",
        "        >>> similarity_score([2, 1, 2], [4, 3, 0])\n",
        "            0\n",
        "    \"\"\"\n",
        "    total_similarity = 0\n",
        "\n",
        "    # Loops through each element in the left list\n",
        "    for ele_left in list_left:\n",
        "\n",
        "        index_similarity = 0\n",
        "        # Loops through each element in the right list and counts matches\n",
        "        for ele_right in list_right:\n",
        "            if ele_right == ele_left:\n",
        "                index_similarity += 1\n",
        "\n",
        "        total_similarity += (index_similarity * ele_left)\n",
        "\n",
        "    return total_similarity"
      ],
      "metadata": {
        "id": "fZcUGiWFYll_"
      },
      "execution_count": null,
      "outputs": []
    },
    {
      "cell_type": "code",
      "source": [
        "# Test Cases for similarity_score()\n",
        "\n",
        "# Provided Examples\n",
        "assert similarity_score([3, 4, 2, 1, 3, 3], [4, 3, 5, 3, 9, 3]) == 31\n",
        "assert similarity_score([12, 11, 12], [14, 13, 10]) == 0\n",
        "\n",
        "# Empty lists\n",
        "assert similarity_score([], []) == 0"
      ],
      "metadata": {
        "id": "7eYyjH0vbqQZ"
      },
      "execution_count": null,
      "outputs": []
    },
    {
      "cell_type": "code",
      "source": [
        "similarity_score(left_ID, right_ID)"
      ],
      "metadata": {
        "colab": {
          "base_uri": "https://localhost:8080/"
        },
        "id": "Z0t8b0suZz8a",
        "outputId": "cebb1db9-5eda-476a-a032-e368808b8e5a"
      },
      "execution_count": null,
      "outputs": [
        {
          "output_type": "execute_result",
          "data": {
            "text/plain": [
              "20351745"
            ]
          },
          "metadata": {},
          "execution_count": 12
        }
      ]
    },
    {
      "cell_type": "markdown",
      "source": [
        "Answer: 20351745"
      ],
      "metadata": {
        "id": "ITah9_wuadkn"
      }
    },
    {
      "cell_type": "markdown",
      "source": [
        "# Advent of Code Problem 2"
      ],
      "metadata": {
        "id": "bzRW8tM3Nofo"
      }
    },
    {
      "cell_type": "markdown",
      "source": [
        "## Part 1"
      ],
      "metadata": {
        "id": "bX3dg-HWsr1H"
      }
    },
    {
      "cell_type": "code",
      "source": [
        "def input_to_lists_two(fname: str) -> list:\n",
        "    \"\"\"\n",
        "    Takes a file containing rows of numbers (each separated by one space), and\n",
        "    produces a list where the elements are the list of numbers from each row.\n",
        "\n",
        "    Args:\n",
        "        fname (str):    a string representing the name of a text file containing\n",
        "                        rows of numbers\n",
        "\n",
        "    Returns:\n",
        "             (list):    a list of lists, where each inner list contains the\n",
        "                        integers from a single row in the file.\n",
        "\n",
        "    Examples:\n",
        "        >>> input_to_lists_two(\"Day 2 Test 1 Advent.txt\")\n",
        "            [[7, 6, 4, 2, 1],\n",
        "             [1, 2, 7, 8, 9],\n",
        "             [9, 7, 6, 2, 1],\n",
        "             [1, 3, 2, 4, 5],\n",
        "             [8, 6, 4, 4, 1],\n",
        "             [1, 3, 6, 7, 9]]\n",
        "        >>> input_to_lists_two(\"Day 2 Test 2 Advent.txt\")\n",
        "            [[3, 4, 5],\n",
        "             [6, 32, 1, 3],\n",
        "             [253, 34],\n",
        "             [1, 4, 2, 32, 4]]\n",
        "    \"\"\"\n",
        "\n",
        "    folder_path = \"/content/gdrive/MyDrive/Colab Notebooks/text_files/\"\n",
        "\n",
        "    # encoding='utf-8-sig' to remove \\ufeff in the output\n",
        "    with open(folder_path + fname, 'r', encoding='utf-8-sig') as file:\n",
        "        lines = file.readlines()\n",
        "    cleaned_lines = [line.strip() for line in lines]\n",
        "\n",
        "    # Takes each list in cleaned_lines, splits the inner list, and converts elements in inner list to integers\n",
        "    my_list = [[int(x) for x in line.split()] for line in cleaned_lines]\n",
        "\n",
        "    return my_list"
      ],
      "metadata": {
        "id": "FCNTvM65Nun9"
      },
      "execution_count": null,
      "outputs": []
    },
    {
      "cell_type": "code",
      "source": [
        "advent_2_1 = [[7, 6, 4, 2, 1],\n",
        "              [1, 2, 7, 8, 9],\n",
        "              [9, 7, 6, 2, 1],\n",
        "              [1, 3, 2, 4, 5],\n",
        "              [8, 6, 4, 4, 1],\n",
        "              [1, 3, 6, 7, 9]]\n",
        "advent_2_2 = [[3, 4, 5],\n",
        "              [6, 32, 1, 3],\n",
        "              [253, 34],\n",
        "              [1, 4, 2, 32, 4]]"
      ],
      "metadata": {
        "id": "-FcgIsqHsF_x"
      },
      "execution_count": null,
      "outputs": []
    },
    {
      "cell_type": "code",
      "source": [
        "# Test Cases input_to_lists_two()\n",
        "\n",
        "# Provided Examples\n",
        "assert input_to_lists_two(\"Day 2 Test 1 Advent.txt\") == advent_2_1\n",
        "assert input_to_lists_two(\"Day 2 Test 2 Advent.txt\") == advent_2_2\n",
        "\n",
        "# Empty lists\n",
        "assert input_to_lists_two(\"Empty .txt\") == []"
      ],
      "metadata": {
        "id": "fxERC40Wqr0K"
      },
      "execution_count": null,
      "outputs": []
    },
    {
      "cell_type": "code",
      "source": [
        "def is_level_safe(row: list) -> bool:\n",
        "    \"\"\"\n",
        "    Determines if a row is safe; safe being if the numbers are either all\n",
        "    increasing or all decreasing AND if two adjacent number differ by at least\n",
        "    one and at most three.\n",
        "\n",
        "    Args:\n",
        "        all_reports (list):    a list containing integers\n",
        "\n",
        "    Returns:\n",
        "                    (bool):    a boolean that returns True if the row is safe,\n",
        "                               but False if not\n",
        "\n",
        "    Examples:\n",
        "        >>> is_level_safe([3, 4, 5])\n",
        "            True\n",
        "        >>> is_level_safe([6, 32, 1, 3])\n",
        "            False\n",
        "    \"\"\"\n",
        "    safe = True\n",
        "\n",
        "    # Check if row is either in ascending or descending order\n",
        "    if not (row == sorted(row) or row == sorted(row, reverse=True)):\n",
        "        safe = False\n",
        "\n",
        "    # Checks if adjacent numbers differ by at least 1 and at most 3\n",
        "    for j in range(len(row) - 1):\n",
        "        diff = abs(int(row[j + 1]) - int(row[j]))\n",
        "        if diff == 0 or diff > 3:\n",
        "            safe = False\n",
        "            # No need to continue looping if list is already False\n",
        "            break\n",
        "\n",
        "    return safe"
      ],
      "metadata": {
        "id": "V6J75fKyhQ2W"
      },
      "execution_count": null,
      "outputs": []
    },
    {
      "cell_type": "code",
      "source": [
        "# Test Cases for is_level_safe()\n",
        "\n",
        "# Provided Examples\n",
        "assert is_level_safe([3, 4, 5]) == True\n",
        "assert is_level_safe([6, 32, 1, 3]) == False\n",
        "\n",
        "# Descending\n",
        "assert is_level_safe([7, 6, 4, 2, 1]) == True\n",
        "\n",
        "# Gap between adjacent numbers is too big\n",
        "assert is_level_safe([1, 2, 7, 8, 9]) == False\n",
        "\n",
        "# Two adjacent numbers cannot be the same\n",
        "assert is_level_safe([8, 6, 4, 4, 1]) == False\n",
        "\n",
        "# Empty List\n",
        "assert is_level_safe([]) == True"
      ],
      "metadata": {
        "id": "T1o_OVffjFOo"
      },
      "execution_count": null,
      "outputs": []
    },
    {
      "cell_type": "code",
      "source": [
        "def total_safe(all_reports: list) -> int:\n",
        "    \"\"\"\n",
        "    Finds the amount of safe rows (defined in is_level_safe).\n",
        "\n",
        "    Args:\n",
        "        all_reports (list):    a list of lists, where each inner list contains\n",
        "                               the integers from a single row in the file.\n",
        "\n",
        "    Returns:\n",
        "                     (int):    a integer representing the total amount of safe\n",
        "                               rows\n",
        "\n",
        "    Examples:\n",
        "        >>> total_safe(input_to_lists_two(\"Day 2 Test 1 Advent.txt\"))\n",
        "            2\n",
        "        >>> total_safe(input_to_lists_two(\"Day 2 Test 2 Advent.txt\"))\n",
        "            1\n",
        "    \"\"\"\n",
        "    safe_count = 0\n",
        "\n",
        "    # Loop through each row of numbers\n",
        "    for row in all_reports:\n",
        "\n",
        "        if is_level_safe(row) == True:\n",
        "            safe_count += 1\n",
        "\n",
        "    return safe_count"
      ],
      "metadata": {
        "id": "DiApE3oHS_Vh"
      },
      "execution_count": null,
      "outputs": []
    },
    {
      "cell_type": "code",
      "source": [
        "# Test Cases for total_safe()\n",
        "\n",
        "# Provided Examples\n",
        "assert total_safe(input_to_lists_two(\"Day 2 Test 1 Advent.txt\")) == 2\n",
        "assert total_safe(input_to_lists_two(\"Day 2 Test 2 Advent.txt\")) == 1\n",
        "\n",
        "# Empty List\n",
        "assert total_safe(input_to_lists_two(\"Empty .txt\")) == 0"
      ],
      "metadata": {
        "id": "vZ5fHBIWZcL0"
      },
      "execution_count": null,
      "outputs": []
    },
    {
      "cell_type": "code",
      "source": [
        "total_safe(input_to_lists_two(\"Day 2 Advent Input.txt\"))"
      ],
      "metadata": {
        "colab": {
          "base_uri": "https://localhost:8080/"
        },
        "id": "I0Ql2rK_O1Mo",
        "outputId": "a442effc-579d-4db3-800f-5462de31309d"
      },
      "execution_count": null,
      "outputs": [
        {
          "output_type": "execute_result",
          "data": {
            "text/plain": [
              "326"
            ]
          },
          "metadata": {},
          "execution_count": 20
        }
      ]
    },
    {
      "cell_type": "markdown",
      "source": [
        "Answer: 326"
      ],
      "metadata": {
        "id": "cwlH-cQ0blqF"
      }
    },
    {
      "cell_type": "markdown",
      "source": [
        "## Part 2"
      ],
      "metadata": {
        "id": "SJSKVN8usuI1"
      }
    },
    {
      "cell_type": "code",
      "source": [
        "def problem_dampener(all_reports: list) -> int:\n",
        "    \"\"\"\n",
        "    Finds the amount of safe rows (defined in is_level_safe), but allows for one\n",
        "    defective at most.\n",
        "\n",
        "    Args:\n",
        "        all_reports (list):    a list of lists, where each inner list contains\n",
        "                               the integers from a single row in the file.\n",
        "\n",
        "    Returns:\n",
        "                     (int):    a integer representing the total amount of safe\n",
        "                               rows\n",
        "\n",
        "    Examples:\n",
        "        >>> total_safe(input_to_lists_two(\"Day 2 Test 1 Advent.txt\"))\n",
        "            4\n",
        "        >>> total_safe(input_to_lists_two(\"Day 2 Test 2 Advent.txt\"))\n",
        "            2\n",
        "    \"\"\"\n",
        "    dampener_count = 0\n",
        "\n",
        "    # Loops through each currently unsafe row\n",
        "    for row in all_reports:\n",
        "        if is_level_safe(row) == False:\n",
        "\n",
        "            safe = False\n",
        "            # Loops through each integer element in row\n",
        "            for i in range(len(row)):\n",
        "                # Create a new list excluding the element at index i\n",
        "                row_copy = row[:i] + row[i+1:]\n",
        "                if is_level_safe(row_copy) == True:\n",
        "                    safe = True\n",
        "                    # No need to continue looping if list is already True\n",
        "                    break\n",
        "\n",
        "            if safe == True:\n",
        "                dampener_count += 1\n",
        "\n",
        "    return (total_safe(all_reports) + dampener_count)"
      ],
      "metadata": {
        "id": "iTp4FIVnUdO5"
      },
      "execution_count": null,
      "outputs": []
    },
    {
      "cell_type": "code",
      "source": [
        "# Test Code for problem_dampener()\n",
        "\n",
        "# Provided Examples\n",
        "assert problem_dampener(input_to_lists_two(\"Day 2 Test 1 Advent.txt\")) == 4\n",
        "assert problem_dampener(input_to_lists_two(\"Day 2 Test 2 Advent.txt\")) == 2\n",
        "\n",
        "# Empty List\n",
        "assert problem_dampener(input_to_lists_two(\"Empty .txt\")) == 0"
      ],
      "metadata": {
        "id": "SiG7jijAwLtJ"
      },
      "execution_count": null,
      "outputs": []
    },
    {
      "cell_type": "code",
      "source": [
        "problem_dampener(input_to_lists_two(\"Day 2 Advent Input.txt\"))"
      ],
      "metadata": {
        "colab": {
          "base_uri": "https://localhost:8080/"
        },
        "id": "TiFdAfdLpBf_",
        "outputId": "01197479-c9f1-411d-bcfd-d5684c5cfff9"
      },
      "execution_count": null,
      "outputs": [
        {
          "output_type": "execute_result",
          "data": {
            "text/plain": [
              "381"
            ]
          },
          "metadata": {},
          "execution_count": 23
        }
      ]
    },
    {
      "cell_type": "markdown",
      "source": [
        "Answer: 381"
      ],
      "metadata": {
        "id": "RPk_2GA1nPxH"
      }
    },
    {
      "cell_type": "markdown",
      "source": [
        "# **Advent of Code Problem 4**"
      ],
      "metadata": {
        "id": "gaHCN7QFZZhN"
      }
    },
    {
      "cell_type": "markdown",
      "source": [
        "## Part 1"
      ],
      "metadata": {
        "id": "86jdA9Ag4ISR"
      }
    },
    {
      "cell_type": "code",
      "source": [
        "def input_to_lists_four(fname: str) -> list:\n",
        "    \"\"\"\n",
        "    Takes a file containing multiple rows of equal length and returns a list of\n",
        "    strings, where each string represents a row from the file. Rows only contain\n",
        "    the letters X, M, A, and S\n",
        "\n",
        "    Args:\n",
        "        fname (str):    a string representing the name of a text file\n",
        "\n",
        "    Returns:\n",
        "             (list):    a list of strings that represents the contents in each\n",
        "                        row\n",
        "\n",
        "    Examples:\n",
        "        >>> input_to_lists_four(\"Advent Day Four Test 1.txt\")\n",
        "            ['MMMSXXMASM',\n",
        "             'MSAMXMSMSA',\n",
        "             'AMXSXMAAMM',\n",
        "             'MSAMASMSMX',\n",
        "             'XMASAMXAMM',\n",
        "             'XXAMMXXAMA',\n",
        "             'SMSMSASXSS',\n",
        "             'SAXAMASAAA',\n",
        "             'MAMMMXMMMM',\n",
        "             'MXMXAXMASX']\n",
        "        >>> input_to_lists_four(\"Advent Day Four Test 2.txt\")\n",
        "            ['MSAXSSMA',\n",
        "             'SAXMASXS',\n",
        "             'AXSAAMSA',\n",
        "             'XSASAMXS',\n",
        "             'SMASMSXX']\n",
        "    \"\"\"\n",
        "    folder_path = \"/content/gdrive/MyDrive/Colab Notebooks/text_files/\"\n",
        "\n",
        "    # encoding='utf-8-sig' to remove \\ufeff in the output\n",
        "    with open(folder_path + fname, 'r', encoding='utf-8-sig') as file:\n",
        "        lines = file.readlines()\n",
        "    cleaned_lines = [line.strip() for line in lines]\n",
        "\n",
        "    return cleaned_lines"
      ],
      "metadata": {
        "id": "xdUFKA_QZbxs"
      },
      "execution_count": null,
      "outputs": []
    },
    {
      "cell_type": "code",
      "source": [
        "advent_4_1 = ['MMMSXXMASM',\n",
        "              'MSAMXMSMSA',\n",
        "              'AMXSXMAAMM',\n",
        "              'MSAMASMSMX',\n",
        "              'XMASAMXAMM',\n",
        "              'XXAMMXXAMA',\n",
        "              'SMSMSASXSS',\n",
        "              'SAXAMASAAA',\n",
        "              'MAMMMXMMMM',\n",
        "              'MXMXAXMASX']\n",
        "advent_4_2 = ['MSAXSSMA',\n",
        "              'SAXMASXS',\n",
        "              'AXSAAMSA',\n",
        "              'XSASAMXS',\n",
        "              'SMASMSXX']"
      ],
      "metadata": {
        "id": "MVH-fD-q3dXz"
      },
      "execution_count": null,
      "outputs": []
    },
    {
      "cell_type": "code",
      "source": [
        "# Test Cases for input_to_lists_four()\n",
        "\n",
        "# Provided Examples\n",
        "assert input_to_lists_four(\"Advent Day Four Test 1.txt\") == advent_4_1\n",
        "assert input_to_lists_four(\"Advent Day Four Test 2.txt\") == advent_4_2\n",
        "\n",
        "# Empty List\n",
        "assert input_to_lists_four(\"Empty .txt\") == []"
      ],
      "metadata": {
        "id": "EJNIvFDI3Gbk"
      },
      "execution_count": null,
      "outputs": []
    },
    {
      "cell_type": "code",
      "source": [
        "def total_xmas(word_search: list) -> int:\n",
        "    \"\"\"\n",
        "    Determines the total amount of times \"XMAS\" appears in the word search. Word\n",
        "    search allows words to be horizontal, vertical, diagonal, written backwards,\n",
        "    and overlapping other words. All rows are equal in length.\n",
        "\n",
        "    Args:\n",
        "        word_search (list):    a list of strings that represents the contents in\n",
        "                               each row\n",
        "\n",
        "    Returns:\n",
        "                     (int):    an integer representing the total amount of times\n",
        "                               \"XMAS\" appears in the word search\n",
        "\n",
        "    Examples:\n",
        "        >>> total_xmas(input_to_lists_four(\"Advent Day Four Test 1.txt\"))\n",
        "            18\n",
        "        >>> total_xmas(input_to_lists_four(\"Advent Day Four Test 2.txt\"))\n",
        "            4\n",
        "    \"\"\"\n",
        "    xmas_count = 0\n",
        "    directions = [[-1, -1], [-1, 0], [-1, 1], [0, -1], [0, 1], [1, -1], [1, 0], [1, 1]]\n",
        "    word = \"XMAS\"\n",
        "\n",
        "    for rows in range(len(word_search)):\n",
        "        for cols in range(len(word_search[0])):\n",
        "            if word_search[rows][cols] == \"X\":\n",
        "\n",
        "                for direction in directions:\n",
        "                    i = 1\n",
        "                    # Default to found\n",
        "                    found_match = True\n",
        "\n",
        "                    while i < 4 and found_match == True:\n",
        "\n",
        "                        # Calculate where the next letter should be\n",
        "                        current_row = rows + (direction[0] * i)\n",
        "                        current_col = cols + (direction[1] * i)\n",
        "\n",
        "                        # Check if location is within scope\n",
        "                        if 0 <= current_row < len(word_search) and 0 <= current_col < len(word_search[0]):\n",
        "                            if word_search[current_row][current_col] != word[i]:\n",
        "                                # Found proven false, so flag changed\n",
        "                                found_match = False\n",
        "\n",
        "                        else:\n",
        "                            found_match = False\n",
        "\n",
        "                        i += 1\n",
        "\n",
        "                    if found_match:\n",
        "                        xmas_count += 1\n",
        "    return xmas_count"
      ],
      "metadata": {
        "id": "ivVVv6PSmK_S"
      },
      "execution_count": null,
      "outputs": []
    },
    {
      "cell_type": "code",
      "source": [
        "total_xmas(input_to_lists_four(\"Advent Day Four Test 1.txt\"))"
      ],
      "metadata": {
        "colab": {
          "base_uri": "https://localhost:8080/"
        },
        "id": "XJu6WjXcogRg",
        "outputId": "ae8fde95-7a3b-4c36-98bd-8377b5ffbf68"
      },
      "execution_count": null,
      "outputs": [
        {
          "output_type": "execute_result",
          "data": {
            "text/plain": [
              "18"
            ]
          },
          "metadata": {},
          "execution_count": 49
        }
      ]
    },
    {
      "cell_type": "code",
      "source": [
        "# Test Cases for total_xmas()\n",
        "\n",
        "# Provided Examples\n",
        "assert total_xmas(input_to_lists_four(\"Advent Day Four Test 1.txt\")) == 18\n",
        "assert total_xmas(input_to_lists_four(\"Advent Day Four Test 2.txt\")) == 4\n",
        "\n",
        "assert total_xmas(input_to_lists_four(\"Empty .txt\")) == 0"
      ],
      "metadata": {
        "id": "_eJ4jA5u8UQQ"
      },
      "execution_count": null,
      "outputs": []
    },
    {
      "cell_type": "code",
      "source": [
        "total_xmas(input_to_lists_four(\"Advent Day 4 Input.txt\"))"
      ],
      "metadata": {
        "colab": {
          "base_uri": "https://localhost:8080/"
        },
        "id": "gPJBqTOGx6ve",
        "outputId": "f3c7a86f-6f1d-494f-fa8a-044ca67486d4"
      },
      "execution_count": null,
      "outputs": [
        {
          "output_type": "execute_result",
          "data": {
            "text/plain": [
              "2427"
            ]
          },
          "metadata": {},
          "execution_count": 50
        }
      ]
    },
    {
      "cell_type": "markdown",
      "source": [
        "Answer: 2427"
      ],
      "metadata": {
        "id": "SUAnX0oQzTBM"
      }
    }
  ]
}